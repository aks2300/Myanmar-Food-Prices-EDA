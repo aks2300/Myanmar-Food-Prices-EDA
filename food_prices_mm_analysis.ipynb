{
 "cells": [
  {
   "cell_type": "markdown",
   "id": "b22e4643",
   "metadata": {},
   "source": [
    "# Food Prices in Myanmar - Exploratory Data Analysis"
   ]
  },
  {
   "cell_type": "markdown",
   "id": "e7029233",
   "metadata": {},
   "source": [
    "### Description of the data \n"
   ]
  },
  {
   "cell_type": "markdown",
   "id": "0899d015",
   "metadata": {},
   "source": [
    "The dataset used throughout this notebook is from <a href = \"https://data.humdata.org/dataset/wfp-food-prices-for-myanmar\">The Humanatarian Data Exchange</a>. In the dataset, it contains various fields such as the date of the data taken and coordinates of the market to locate more accurately, etc. There are total of 34888 rows and 16 fields. "
   ]
  },
  {
   "cell_type": "markdown",
   "id": "756b90fd",
   "metadata": {},
   "source": [
    "#### Importing and initializing the libraries"
   ]
  },
  {
   "cell_type": "code",
   "execution_count": 1,
   "id": "57d133d1",
   "metadata": {},
   "outputs": [],
   "source": [
    "import seaborn as sns \n",
    "import pandas as pd \n",
    "import matplotlib.pyplot as pplt\n",
    "import matplotlib.ticker as tckr\n",
    "\n",
    "%matplotlib inline \n",
    "sns.set_style(style='ticks')"
   ]
  },
  {
   "cell_type": "markdown",
   "id": "a1e16f47",
   "metadata": {},
   "source": [
    "#### Loading the dataset"
   ]
  },
  {
   "cell_type": "code",
   "execution_count": 2,
   "id": "758d6dbb",
   "metadata": {},
   "outputs": [
    {
     "name": "stdout",
     "output_type": "stream",
     "text": [
      "<class 'pandas.core.frame.DataFrame'>\n",
      "RangeIndex: 34888 entries, 0 to 34887\n",
      "Data columns (total 16 columns):\n",
      " #   Column        Non-Null Count  Dtype  \n",
      "---  ------        --------------  -----  \n",
      " 0   date          34888 non-null  object \n",
      " 1   admin1        34888 non-null  object \n",
      " 2   admin2        34888 non-null  object \n",
      " 3   market        34888 non-null  object \n",
      " 4   market_id     34888 non-null  int64  \n",
      " 5   latitude      34888 non-null  float64\n",
      " 6   longitude     34888 non-null  float64\n",
      " 7   category      34888 non-null  object \n",
      " 8   commodity     34888 non-null  object \n",
      " 9   commodity_id  34888 non-null  int64  \n",
      " 10  unit          34888 non-null  object \n",
      " 11  priceflag     34888 non-null  object \n",
      " 12  pricetype     34888 non-null  object \n",
      " 13  currency      34888 non-null  object \n",
      " 14  price         34888 non-null  float64\n",
      " 15  usdprice      34888 non-null  float64\n",
      "dtypes: float64(4), int64(2), object(10)\n",
      "memory usage: 4.3+ MB\n"
     ]
    }
   ],
   "source": [
    "dF = pd.read_csv('datasets/wfp_food_prices_mmr.csv', encoding= 'latin-1')\n",
    "dF.info()"
   ]
  },
  {
   "cell_type": "markdown",
   "id": "8a28cce8",
   "metadata": {},
   "source": [
    "> The field \"admin1\" denotes the name of the state/division of Myanmar.  \n",
    "The field \"admin2\" denotes the name of the city in Myanmar.         \n",
    "    \n",
    "> Other than these, the remaining field names are pretty coherent and clear."
   ]
  },
  {
   "cell_type": "markdown",
   "id": "48a5356f",
   "metadata": {},
   "source": [
    "### Exploratory Data Analysis"
   ]
  },
  {
   "cell_type": "markdown",
   "id": "5f24a1cd",
   "metadata": {},
   "source": [
    "#### Research Questions\n",
    "Question 1 : How does the retail prices of essential foods changes overtime?   \n",
    "Question 2 : Are impoverished people's struggle for basic food increasing?  "
   ]
  },
  {
   "cell_type": "markdown",
   "id": "0530301b",
   "metadata": {},
   "source": [
    "#### Data Cleaning"
   ]
  },
  {
   "cell_type": "markdown",
   "id": "72d90ecd",
   "metadata": {},
   "source": [
    "Since some of the field names are ambiguous, we are going to change the column names."
   ]
  },
  {
   "cell_type": "code",
   "execution_count": 3,
   "id": "a34b28be",
   "metadata": {},
   "outputs": [
    {
     "data": {
      "application/vnd.microsoft.datawrangler.viewer.v0+json": {
       "columns": [
        {
         "name": "index",
         "rawType": "int64",
         "type": "integer"
        },
        {
         "name": "date",
         "rawType": "object",
         "type": "string"
        },
        {
         "name": "region",
         "rawType": "object",
         "type": "string"
        },
        {
         "name": "city",
         "rawType": "object",
         "type": "string"
        },
        {
         "name": "market",
         "rawType": "object",
         "type": "string"
        },
        {
         "name": "market_id",
         "rawType": "int64",
         "type": "integer"
        },
        {
         "name": "latitude",
         "rawType": "float64",
         "type": "float"
        },
        {
         "name": "longitude",
         "rawType": "float64",
         "type": "float"
        },
        {
         "name": "category",
         "rawType": "object",
         "type": "string"
        },
        {
         "name": "commodity",
         "rawType": "object",
         "type": "string"
        },
        {
         "name": "commodity_id",
         "rawType": "int64",
         "type": "integer"
        },
        {
         "name": "unit",
         "rawType": "object",
         "type": "string"
        },
        {
         "name": "priceflag",
         "rawType": "object",
         "type": "string"
        },
        {
         "name": "pricetype",
         "rawType": "object",
         "type": "string"
        },
        {
         "name": "currency",
         "rawType": "object",
         "type": "string"
        },
        {
         "name": "price",
         "rawType": "float64",
         "type": "float"
        },
        {
         "name": "usdprice",
         "rawType": "float64",
         "type": "float"
        }
       ],
       "conversionMethod": "pd.DataFrame",
       "ref": "9819325a-e8d5-489d-9f8b-7ceed4b56fef",
       "rows": [
        [
         "0",
         "1/15/2008",
         "Kachin",
         "Myitkyina",
         "Wai Maw",
         "1021",
         "25.34",
         "97.44",
         "meat, fish and eggs",
         "Meat (chicken)",
         "94",
         "KG",
         "actual",
         "Retail",
         "MMK",
         "3636.36",
         "3.74"
        ],
        [
         "1",
         "1/15/2008",
         "Kachin",
         "Myitkyina",
         "Wai Maw",
         "1021",
         "25.34",
         "97.44",
         "vegetables and fruits",
         "Onions",
         "173",
         "KG",
         "actual",
         "Retail",
         "MMK",
         "969.7",
         "1.0"
        ],
        [
         "2",
         "1/15/2008",
         "Kachin",
         "Myitkyina",
         "Wai Maw",
         "1021",
         "25.34",
         "97.44",
         "vegetables and fruits",
         "Tomatoes",
         "114",
         "KG",
         "actual",
         "Retail",
         "MMK",
         "484.85",
         "0.5"
        ],
        [
         "3",
         "1/15/2008",
         "Magway",
         "Magway",
         "Magway",
         "997",
         "20.15",
         "94.92",
         "cereals and tubers",
         "Potatoes",
         "83",
         "KG",
         "actual",
         "Retail",
         "MMK",
         "242.42",
         "0.25"
        ],
        [
         "4",
         "1/15/2008",
         "Magway",
         "Magway",
         "Magway",
         "997",
         "20.15",
         "94.92",
         "cereals and tubers",
         "Rice (low quality)",
         "145",
         "KG",
         "actual",
         "Retail",
         "MMK",
         "604.17",
         "0.62"
        ]
       ],
       "shape": {
        "columns": 16,
        "rows": 5
       }
      },
      "text/html": [
       "<div>\n",
       "<style scoped>\n",
       "    .dataframe tbody tr th:only-of-type {\n",
       "        vertical-align: middle;\n",
       "    }\n",
       "\n",
       "    .dataframe tbody tr th {\n",
       "        vertical-align: top;\n",
       "    }\n",
       "\n",
       "    .dataframe thead th {\n",
       "        text-align: right;\n",
       "    }\n",
       "</style>\n",
       "<table border=\"1\" class=\"dataframe\">\n",
       "  <thead>\n",
       "    <tr style=\"text-align: right;\">\n",
       "      <th></th>\n",
       "      <th>date</th>\n",
       "      <th>region</th>\n",
       "      <th>city</th>\n",
       "      <th>market</th>\n",
       "      <th>market_id</th>\n",
       "      <th>latitude</th>\n",
       "      <th>longitude</th>\n",
       "      <th>category</th>\n",
       "      <th>commodity</th>\n",
       "      <th>commodity_id</th>\n",
       "      <th>unit</th>\n",
       "      <th>priceflag</th>\n",
       "      <th>pricetype</th>\n",
       "      <th>currency</th>\n",
       "      <th>price</th>\n",
       "      <th>usdprice</th>\n",
       "    </tr>\n",
       "  </thead>\n",
       "  <tbody>\n",
       "    <tr>\n",
       "      <th>0</th>\n",
       "      <td>1/15/2008</td>\n",
       "      <td>Kachin</td>\n",
       "      <td>Myitkyina</td>\n",
       "      <td>Wai Maw</td>\n",
       "      <td>1021</td>\n",
       "      <td>25.34</td>\n",
       "      <td>97.44</td>\n",
       "      <td>meat, fish and eggs</td>\n",
       "      <td>Meat (chicken)</td>\n",
       "      <td>94</td>\n",
       "      <td>KG</td>\n",
       "      <td>actual</td>\n",
       "      <td>Retail</td>\n",
       "      <td>MMK</td>\n",
       "      <td>3636.36</td>\n",
       "      <td>3.74</td>\n",
       "    </tr>\n",
       "    <tr>\n",
       "      <th>1</th>\n",
       "      <td>1/15/2008</td>\n",
       "      <td>Kachin</td>\n",
       "      <td>Myitkyina</td>\n",
       "      <td>Wai Maw</td>\n",
       "      <td>1021</td>\n",
       "      <td>25.34</td>\n",
       "      <td>97.44</td>\n",
       "      <td>vegetables and fruits</td>\n",
       "      <td>Onions</td>\n",
       "      <td>173</td>\n",
       "      <td>KG</td>\n",
       "      <td>actual</td>\n",
       "      <td>Retail</td>\n",
       "      <td>MMK</td>\n",
       "      <td>969.70</td>\n",
       "      <td>1.00</td>\n",
       "    </tr>\n",
       "    <tr>\n",
       "      <th>2</th>\n",
       "      <td>1/15/2008</td>\n",
       "      <td>Kachin</td>\n",
       "      <td>Myitkyina</td>\n",
       "      <td>Wai Maw</td>\n",
       "      <td>1021</td>\n",
       "      <td>25.34</td>\n",
       "      <td>97.44</td>\n",
       "      <td>vegetables and fruits</td>\n",
       "      <td>Tomatoes</td>\n",
       "      <td>114</td>\n",
       "      <td>KG</td>\n",
       "      <td>actual</td>\n",
       "      <td>Retail</td>\n",
       "      <td>MMK</td>\n",
       "      <td>484.85</td>\n",
       "      <td>0.50</td>\n",
       "    </tr>\n",
       "    <tr>\n",
       "      <th>3</th>\n",
       "      <td>1/15/2008</td>\n",
       "      <td>Magway</td>\n",
       "      <td>Magway</td>\n",
       "      <td>Magway</td>\n",
       "      <td>997</td>\n",
       "      <td>20.15</td>\n",
       "      <td>94.92</td>\n",
       "      <td>cereals and tubers</td>\n",
       "      <td>Potatoes</td>\n",
       "      <td>83</td>\n",
       "      <td>KG</td>\n",
       "      <td>actual</td>\n",
       "      <td>Retail</td>\n",
       "      <td>MMK</td>\n",
       "      <td>242.42</td>\n",
       "      <td>0.25</td>\n",
       "    </tr>\n",
       "    <tr>\n",
       "      <th>4</th>\n",
       "      <td>1/15/2008</td>\n",
       "      <td>Magway</td>\n",
       "      <td>Magway</td>\n",
       "      <td>Magway</td>\n",
       "      <td>997</td>\n",
       "      <td>20.15</td>\n",
       "      <td>94.92</td>\n",
       "      <td>cereals and tubers</td>\n",
       "      <td>Rice (low quality)</td>\n",
       "      <td>145</td>\n",
       "      <td>KG</td>\n",
       "      <td>actual</td>\n",
       "      <td>Retail</td>\n",
       "      <td>MMK</td>\n",
       "      <td>604.17</td>\n",
       "      <td>0.62</td>\n",
       "    </tr>\n",
       "  </tbody>\n",
       "</table>\n",
       "</div>"
      ],
      "text/plain": [
       "        date  region       city   market  market_id  latitude  longitude  \\\n",
       "0  1/15/2008  Kachin  Myitkyina  Wai Maw       1021     25.34      97.44   \n",
       "1  1/15/2008  Kachin  Myitkyina  Wai Maw       1021     25.34      97.44   \n",
       "2  1/15/2008  Kachin  Myitkyina  Wai Maw       1021     25.34      97.44   \n",
       "3  1/15/2008  Magway     Magway   Magway        997     20.15      94.92   \n",
       "4  1/15/2008  Magway     Magway   Magway        997     20.15      94.92   \n",
       "\n",
       "                category           commodity  commodity_id unit priceflag  \\\n",
       "0    meat, fish and eggs      Meat (chicken)            94   KG    actual   \n",
       "1  vegetables and fruits              Onions           173   KG    actual   \n",
       "2  vegetables and fruits            Tomatoes           114   KG    actual   \n",
       "3     cereals and tubers            Potatoes            83   KG    actual   \n",
       "4     cereals and tubers  Rice (low quality)           145   KG    actual   \n",
       "\n",
       "  pricetype currency    price  usdprice  \n",
       "0    Retail      MMK  3636.36      3.74  \n",
       "1    Retail      MMK   969.70      1.00  \n",
       "2    Retail      MMK   484.85      0.50  \n",
       "3    Retail      MMK   242.42      0.25  \n",
       "4    Retail      MMK   604.17      0.62  "
      ]
     },
     "execution_count": 3,
     "metadata": {},
     "output_type": "execute_result"
    }
   ],
   "source": [
    "dF.rename(columns={'admin1' : 'region', 'admin2' : 'city'}, inplace=True) \n",
    "dF.head(5) #shows first 5 records in the data"
   ]
  },
  {
   "cell_type": "markdown",
   "id": "28dbd215",
   "metadata": {},
   "source": [
    "> Just like that, all of the field names are now clear. "
   ]
  },
  {
   "cell_type": "code",
   "execution_count": 4,
   "id": "c7f85fba",
   "metadata": {},
   "outputs": [
    {
     "data": {
      "text/plain": [
       "date            0\n",
       "region          0\n",
       "city            0\n",
       "market          0\n",
       "market_id       0\n",
       "latitude        0\n",
       "longitude       0\n",
       "category        0\n",
       "commodity       0\n",
       "commodity_id    0\n",
       "unit            0\n",
       "priceflag       0\n",
       "pricetype       0\n",
       "currency        0\n",
       "price           0\n",
       "usdprice        0\n",
       "dtype: int64"
      ]
     },
     "execution_count": 4,
     "metadata": {},
     "output_type": "execute_result"
    }
   ],
   "source": [
    "dF.isnull().sum()"
   ]
  },
  {
   "cell_type": "code",
   "execution_count": 5,
   "id": "82b3e24a",
   "metadata": {},
   "outputs": [
    {
     "data": {
      "text/plain": [
       "0"
      ]
     },
     "execution_count": 5,
     "metadata": {},
     "output_type": "execute_result"
    }
   ],
   "source": [
    "dF.duplicated().sum()"
   ]
  },
  {
   "cell_type": "markdown",
   "id": "107ed734",
   "metadata": {},
   "source": [
    "> The data has no null values as well as duplicated records.  \n",
    "However, we are doing EDA on retail prices of various foods in Myanmar. So, we need to filter the data."
   ]
  },
  {
   "cell_type": "code",
   "execution_count": 6,
   "id": "4fab4dd9",
   "metadata": {},
   "outputs": [
    {
     "data": {
      "text/plain": [
       "Index([ 3066,  3239,  3397,  3710,  3790,  3870,  3953,  4022,  4268,  4463,\n",
       "        4734,  4806,  4954,  5018,  5114,  5475,  5527,  5570,  5663,  5766,\n",
       "        5861,  6010,  6149,  6293,  6421,  6554,  6834,  6979,  7270,  7410,\n",
       "        7806,  7942,  8187,  8305,  8406,  8529,  8650,  8763,  8892,  9030,\n",
       "        9145,  9261,  9476,  9599,  9810,  9919, 10127, 10244, 10327, 10437,\n",
       "       10655, 10762, 10851, 11107, 11187, 11514, 11595, 11669, 11857, 11896,\n",
       "       11938, 12096, 12195, 12357, 12453, 12550, 12596, 12652, 12696, 12743,\n",
       "       12791],\n",
       "      dtype='int64')"
      ]
     },
     "execution_count": 6,
     "metadata": {},
     "output_type": "execute_result"
    }
   ],
   "source": [
    "iDrop = dF.loc[dF.pricetype != 'Retail'].index ## gives the index of the rows that is not retail price\n",
    "iDrop"
   ]
  },
  {
   "cell_type": "code",
   "execution_count": 7,
   "id": "a6a9e4ad",
   "metadata": {},
   "outputs": [
    {
     "data": {
      "application/vnd.microsoft.datawrangler.viewer.v0+json": {
       "columns": [
        {
         "name": "index",
         "rawType": "int64",
         "type": "integer"
        },
        {
         "name": "date",
         "rawType": "object",
         "type": "string"
        },
        {
         "name": "region",
         "rawType": "object",
         "type": "string"
        },
        {
         "name": "city",
         "rawType": "object",
         "type": "string"
        },
        {
         "name": "market",
         "rawType": "object",
         "type": "string"
        },
        {
         "name": "market_id",
         "rawType": "int64",
         "type": "integer"
        },
        {
         "name": "latitude",
         "rawType": "float64",
         "type": "float"
        },
        {
         "name": "longitude",
         "rawType": "float64",
         "type": "float"
        },
        {
         "name": "category",
         "rawType": "object",
         "type": "string"
        },
        {
         "name": "commodity",
         "rawType": "object",
         "type": "string"
        },
        {
         "name": "commodity_id",
         "rawType": "int64",
         "type": "integer"
        },
        {
         "name": "unit",
         "rawType": "object",
         "type": "string"
        },
        {
         "name": "priceflag",
         "rawType": "object",
         "type": "string"
        },
        {
         "name": "pricetype",
         "rawType": "object",
         "type": "string"
        },
        {
         "name": "currency",
         "rawType": "object",
         "type": "string"
        },
        {
         "name": "price",
         "rawType": "float64",
         "type": "float"
        },
        {
         "name": "usdprice",
         "rawType": "float64",
         "type": "float"
        }
       ],
       "conversionMethod": "pd.DataFrame",
       "ref": "306312a2-6e47-4291-8ee0-67f818bec910",
       "rows": [
        [
         "0",
         "1/15/2008",
         "Kachin",
         "Myitkyina",
         "Wai Maw",
         "1021",
         "25.34",
         "97.44",
         "meat, fish and eggs",
         "Meat (chicken)",
         "94",
         "KG",
         "actual",
         "Retail",
         "MMK",
         "3636.36",
         "3.74"
        ],
        [
         "1",
         "1/15/2008",
         "Kachin",
         "Myitkyina",
         "Wai Maw",
         "1021",
         "25.34",
         "97.44",
         "vegetables and fruits",
         "Onions",
         "173",
         "KG",
         "actual",
         "Retail",
         "MMK",
         "969.7",
         "1.0"
        ],
        [
         "2",
         "1/15/2008",
         "Kachin",
         "Myitkyina",
         "Wai Maw",
         "1021",
         "25.34",
         "97.44",
         "vegetables and fruits",
         "Tomatoes",
         "114",
         "KG",
         "actual",
         "Retail",
         "MMK",
         "484.85",
         "0.5"
        ],
        [
         "3",
         "1/15/2008",
         "Magway",
         "Magway",
         "Magway",
         "997",
         "20.15",
         "94.92",
         "cereals and tubers",
         "Potatoes",
         "83",
         "KG",
         "actual",
         "Retail",
         "MMK",
         "242.42",
         "0.25"
        ],
        [
         "4",
         "1/15/2008",
         "Magway",
         "Magway",
         "Magway",
         "997",
         "20.15",
         "94.92",
         "cereals and tubers",
         "Rice (low quality)",
         "145",
         "KG",
         "actual",
         "Retail",
         "MMK",
         "604.17",
         "0.62"
        ]
       ],
       "shape": {
        "columns": 16,
        "rows": 5
       }
      },
      "text/html": [
       "<div>\n",
       "<style scoped>\n",
       "    .dataframe tbody tr th:only-of-type {\n",
       "        vertical-align: middle;\n",
       "    }\n",
       "\n",
       "    .dataframe tbody tr th {\n",
       "        vertical-align: top;\n",
       "    }\n",
       "\n",
       "    .dataframe thead th {\n",
       "        text-align: right;\n",
       "    }\n",
       "</style>\n",
       "<table border=\"1\" class=\"dataframe\">\n",
       "  <thead>\n",
       "    <tr style=\"text-align: right;\">\n",
       "      <th></th>\n",
       "      <th>date</th>\n",
       "      <th>region</th>\n",
       "      <th>city</th>\n",
       "      <th>market</th>\n",
       "      <th>market_id</th>\n",
       "      <th>latitude</th>\n",
       "      <th>longitude</th>\n",
       "      <th>category</th>\n",
       "      <th>commodity</th>\n",
       "      <th>commodity_id</th>\n",
       "      <th>unit</th>\n",
       "      <th>priceflag</th>\n",
       "      <th>pricetype</th>\n",
       "      <th>currency</th>\n",
       "      <th>price</th>\n",
       "      <th>usdprice</th>\n",
       "    </tr>\n",
       "  </thead>\n",
       "  <tbody>\n",
       "    <tr>\n",
       "      <th>0</th>\n",
       "      <td>1/15/2008</td>\n",
       "      <td>Kachin</td>\n",
       "      <td>Myitkyina</td>\n",
       "      <td>Wai Maw</td>\n",
       "      <td>1021</td>\n",
       "      <td>25.34</td>\n",
       "      <td>97.44</td>\n",
       "      <td>meat, fish and eggs</td>\n",
       "      <td>Meat (chicken)</td>\n",
       "      <td>94</td>\n",
       "      <td>KG</td>\n",
       "      <td>actual</td>\n",
       "      <td>Retail</td>\n",
       "      <td>MMK</td>\n",
       "      <td>3636.36</td>\n",
       "      <td>3.74</td>\n",
       "    </tr>\n",
       "    <tr>\n",
       "      <th>1</th>\n",
       "      <td>1/15/2008</td>\n",
       "      <td>Kachin</td>\n",
       "      <td>Myitkyina</td>\n",
       "      <td>Wai Maw</td>\n",
       "      <td>1021</td>\n",
       "      <td>25.34</td>\n",
       "      <td>97.44</td>\n",
       "      <td>vegetables and fruits</td>\n",
       "      <td>Onions</td>\n",
       "      <td>173</td>\n",
       "      <td>KG</td>\n",
       "      <td>actual</td>\n",
       "      <td>Retail</td>\n",
       "      <td>MMK</td>\n",
       "      <td>969.70</td>\n",
       "      <td>1.00</td>\n",
       "    </tr>\n",
       "    <tr>\n",
       "      <th>2</th>\n",
       "      <td>1/15/2008</td>\n",
       "      <td>Kachin</td>\n",
       "      <td>Myitkyina</td>\n",
       "      <td>Wai Maw</td>\n",
       "      <td>1021</td>\n",
       "      <td>25.34</td>\n",
       "      <td>97.44</td>\n",
       "      <td>vegetables and fruits</td>\n",
       "      <td>Tomatoes</td>\n",
       "      <td>114</td>\n",
       "      <td>KG</td>\n",
       "      <td>actual</td>\n",
       "      <td>Retail</td>\n",
       "      <td>MMK</td>\n",
       "      <td>484.85</td>\n",
       "      <td>0.50</td>\n",
       "    </tr>\n",
       "    <tr>\n",
       "      <th>3</th>\n",
       "      <td>1/15/2008</td>\n",
       "      <td>Magway</td>\n",
       "      <td>Magway</td>\n",
       "      <td>Magway</td>\n",
       "      <td>997</td>\n",
       "      <td>20.15</td>\n",
       "      <td>94.92</td>\n",
       "      <td>cereals and tubers</td>\n",
       "      <td>Potatoes</td>\n",
       "      <td>83</td>\n",
       "      <td>KG</td>\n",
       "      <td>actual</td>\n",
       "      <td>Retail</td>\n",
       "      <td>MMK</td>\n",
       "      <td>242.42</td>\n",
       "      <td>0.25</td>\n",
       "    </tr>\n",
       "    <tr>\n",
       "      <th>4</th>\n",
       "      <td>1/15/2008</td>\n",
       "      <td>Magway</td>\n",
       "      <td>Magway</td>\n",
       "      <td>Magway</td>\n",
       "      <td>997</td>\n",
       "      <td>20.15</td>\n",
       "      <td>94.92</td>\n",
       "      <td>cereals and tubers</td>\n",
       "      <td>Rice (low quality)</td>\n",
       "      <td>145</td>\n",
       "      <td>KG</td>\n",
       "      <td>actual</td>\n",
       "      <td>Retail</td>\n",
       "      <td>MMK</td>\n",
       "      <td>604.17</td>\n",
       "      <td>0.62</td>\n",
       "    </tr>\n",
       "  </tbody>\n",
       "</table>\n",
       "</div>"
      ],
      "text/plain": [
       "        date  region       city   market  market_id  latitude  longitude  \\\n",
       "0  1/15/2008  Kachin  Myitkyina  Wai Maw       1021     25.34      97.44   \n",
       "1  1/15/2008  Kachin  Myitkyina  Wai Maw       1021     25.34      97.44   \n",
       "2  1/15/2008  Kachin  Myitkyina  Wai Maw       1021     25.34      97.44   \n",
       "3  1/15/2008  Magway     Magway   Magway        997     20.15      94.92   \n",
       "4  1/15/2008  Magway     Magway   Magway        997     20.15      94.92   \n",
       "\n",
       "                category           commodity  commodity_id unit priceflag  \\\n",
       "0    meat, fish and eggs      Meat (chicken)            94   KG    actual   \n",
       "1  vegetables and fruits              Onions           173   KG    actual   \n",
       "2  vegetables and fruits            Tomatoes           114   KG    actual   \n",
       "3     cereals and tubers            Potatoes            83   KG    actual   \n",
       "4     cereals and tubers  Rice (low quality)           145   KG    actual   \n",
       "\n",
       "  pricetype currency    price  usdprice  \n",
       "0    Retail      MMK  3636.36      3.74  \n",
       "1    Retail      MMK   969.70      1.00  \n",
       "2    Retail      MMK   484.85      0.50  \n",
       "3    Retail      MMK   242.42      0.25  \n",
       "4    Retail      MMK   604.17      0.62  "
      ]
     },
     "execution_count": 7,
     "metadata": {},
     "output_type": "execute_result"
    }
   ],
   "source": [
    "dF.drop(iDrop)\n",
    "dF.head(5)"
   ]
  },
  {
   "cell_type": "markdown",
   "id": "4975a397",
   "metadata": {},
   "source": [
    ">   Now we have the only rows with retail price."
   ]
  },
  {
   "cell_type": "markdown",
   "id": "3aaa5bce",
   "metadata": {},
   "source": [
    "#### Data Processing & Visualisation"
   ]
  },
  {
   "cell_type": "markdown",
   "id": "8e8da2f5",
   "metadata": {},
   "source": [
    "After obtaining the clean data, we have to filter the data for further visualisations to deliver accruate insights.  \n",
    "\n",
    "> To answer question 1, we first need to filter the essential foods such as rice and oil."
   ]
  },
  {
   "cell_type": "code",
   "execution_count": 8,
   "id": "82974d7b",
   "metadata": {},
   "outputs": [
    {
     "data": {
      "application/vnd.microsoft.datawrangler.viewer.v0+json": {
       "columns": [
        {
         "name": "index",
         "rawType": "int64",
         "type": "integer"
        },
        {
         "name": "date",
         "rawType": "object",
         "type": "string"
        },
        {
         "name": "region",
         "rawType": "object",
         "type": "string"
        },
        {
         "name": "city",
         "rawType": "object",
         "type": "string"
        },
        {
         "name": "market",
         "rawType": "object",
         "type": "string"
        },
        {
         "name": "market_id",
         "rawType": "int64",
         "type": "integer"
        },
        {
         "name": "latitude",
         "rawType": "float64",
         "type": "float"
        },
        {
         "name": "longitude",
         "rawType": "float64",
         "type": "float"
        },
        {
         "name": "category",
         "rawType": "object",
         "type": "string"
        },
        {
         "name": "commodity",
         "rawType": "object",
         "type": "string"
        },
        {
         "name": "commodity_id",
         "rawType": "int64",
         "type": "integer"
        },
        {
         "name": "unit",
         "rawType": "object",
         "type": "string"
        },
        {
         "name": "priceflag",
         "rawType": "object",
         "type": "string"
        },
        {
         "name": "pricetype",
         "rawType": "object",
         "type": "string"
        },
        {
         "name": "currency",
         "rawType": "object",
         "type": "string"
        },
        {
         "name": "price",
         "rawType": "float64",
         "type": "float"
        },
        {
         "name": "usdprice",
         "rawType": "float64",
         "type": "float"
        }
       ],
       "conversionMethod": "pd.DataFrame",
       "ref": "806a49f6-0ef6-42b0-af7c-97a812cd774b",
       "rows": [
        [
         "34876",
         "2/15/2025",
         "Yangon",
         "Yangon (East)",
         "Zamyinzwel",
         "6091",
         "16.91",
         "96.16",
         "oil and fats",
         "Oil (palm)",
         "62",
         "L",
         "actual",
         "Retail",
         "MMK",
         "4495.7",
         "2.15"
        ],
        [
         "34879",
         "2/15/2025",
         "Yangon",
         "Yangon (North)",
         "Meegwet",
         "6089",
         "16.87",
         "96.05",
         "cereals and tubers",
         "Rice (low quality)",
         "145",
         "KG",
         "actual",
         "Retail",
         "MMK",
         "2230.16",
         "1.07"
        ],
        [
         "34881",
         "2/15/2025",
         "Yangon",
         "Yangon (North)",
         "Meegwet",
         "6089",
         "16.87",
         "96.05",
         "oil and fats",
         "Oil (palm)",
         "62",
         "L",
         "actual",
         "Retail",
         "MMK",
         "7595.41",
         "3.63"
        ]
       ],
       "shape": {
        "columns": 16,
        "rows": 3
       }
      },
      "text/html": [
       "<div>\n",
       "<style scoped>\n",
       "    .dataframe tbody tr th:only-of-type {\n",
       "        vertical-align: middle;\n",
       "    }\n",
       "\n",
       "    .dataframe tbody tr th {\n",
       "        vertical-align: top;\n",
       "    }\n",
       "\n",
       "    .dataframe thead th {\n",
       "        text-align: right;\n",
       "    }\n",
       "</style>\n",
       "<table border=\"1\" class=\"dataframe\">\n",
       "  <thead>\n",
       "    <tr style=\"text-align: right;\">\n",
       "      <th></th>\n",
       "      <th>date</th>\n",
       "      <th>region</th>\n",
       "      <th>city</th>\n",
       "      <th>market</th>\n",
       "      <th>market_id</th>\n",
       "      <th>latitude</th>\n",
       "      <th>longitude</th>\n",
       "      <th>category</th>\n",
       "      <th>commodity</th>\n",
       "      <th>commodity_id</th>\n",
       "      <th>unit</th>\n",
       "      <th>priceflag</th>\n",
       "      <th>pricetype</th>\n",
       "      <th>currency</th>\n",
       "      <th>price</th>\n",
       "      <th>usdprice</th>\n",
       "    </tr>\n",
       "  </thead>\n",
       "  <tbody>\n",
       "    <tr>\n",
       "      <th>34876</th>\n",
       "      <td>2/15/2025</td>\n",
       "      <td>Yangon</td>\n",
       "      <td>Yangon (East)</td>\n",
       "      <td>Zamyinzwel</td>\n",
       "      <td>6091</td>\n",
       "      <td>16.91</td>\n",
       "      <td>96.16</td>\n",
       "      <td>oil and fats</td>\n",
       "      <td>Oil (palm)</td>\n",
       "      <td>62</td>\n",
       "      <td>L</td>\n",
       "      <td>actual</td>\n",
       "      <td>Retail</td>\n",
       "      <td>MMK</td>\n",
       "      <td>4495.70</td>\n",
       "      <td>2.15</td>\n",
       "    </tr>\n",
       "    <tr>\n",
       "      <th>34879</th>\n",
       "      <td>2/15/2025</td>\n",
       "      <td>Yangon</td>\n",
       "      <td>Yangon (North)</td>\n",
       "      <td>Meegwet</td>\n",
       "      <td>6089</td>\n",
       "      <td>16.87</td>\n",
       "      <td>96.05</td>\n",
       "      <td>cereals and tubers</td>\n",
       "      <td>Rice (low quality)</td>\n",
       "      <td>145</td>\n",
       "      <td>KG</td>\n",
       "      <td>actual</td>\n",
       "      <td>Retail</td>\n",
       "      <td>MMK</td>\n",
       "      <td>2230.16</td>\n",
       "      <td>1.07</td>\n",
       "    </tr>\n",
       "    <tr>\n",
       "      <th>34881</th>\n",
       "      <td>2/15/2025</td>\n",
       "      <td>Yangon</td>\n",
       "      <td>Yangon (North)</td>\n",
       "      <td>Meegwet</td>\n",
       "      <td>6089</td>\n",
       "      <td>16.87</td>\n",
       "      <td>96.05</td>\n",
       "      <td>oil and fats</td>\n",
       "      <td>Oil (palm)</td>\n",
       "      <td>62</td>\n",
       "      <td>L</td>\n",
       "      <td>actual</td>\n",
       "      <td>Retail</td>\n",
       "      <td>MMK</td>\n",
       "      <td>7595.41</td>\n",
       "      <td>3.63</td>\n",
       "    </tr>\n",
       "  </tbody>\n",
       "</table>\n",
       "</div>"
      ],
      "text/plain": [
       "            date  region            city      market  market_id  latitude  \\\n",
       "34876  2/15/2025  Yangon   Yangon (East)  Zamyinzwel       6091     16.91   \n",
       "34879  2/15/2025  Yangon  Yangon (North)     Meegwet       6089     16.87   \n",
       "34881  2/15/2025  Yangon  Yangon (North)     Meegwet       6089     16.87   \n",
       "\n",
       "       longitude            category           commodity  commodity_id unit  \\\n",
       "34876      96.16        oil and fats          Oil (palm)            62    L   \n",
       "34879      96.05  cereals and tubers  Rice (low quality)           145   KG   \n",
       "34881      96.05        oil and fats          Oil (palm)            62    L   \n",
       "\n",
       "      priceflag pricetype currency    price  usdprice  \n",
       "34876    actual    Retail      MMK  4495.70      2.15  \n",
       "34879    actual    Retail      MMK  2230.16      1.07  \n",
       "34881    actual    Retail      MMK  7595.41      3.63  "
      ]
     },
     "execution_count": 8,
     "metadata": {},
     "output_type": "execute_result"
    }
   ],
   "source": [
    "q1 = dF.loc[dF.commodity.isin(['Rice (low quality)', 'Oil (palm)'])]\n",
    "## this filters out the rows that has essential food items in the dataframe\n",
    "q1.tail(3) "
   ]
  },
  {
   "cell_type": "code",
   "execution_count": 9,
   "id": "37230780",
   "metadata": {},
   "outputs": [
    {
     "data": {
      "image/png": "[encoded data removed]",
      "text/plain": [
       "<Figure size 1600x600 with 1 Axes>"
      ]
     },
     "metadata": {},
     "output_type": "display_data"
    }
   ],
   "source": [
    "f, axs = pplt.subplots(figsize = (16, 6))\n",
    "sns.lineplot(x = 'date', y = 'price', hue = 'commodity', data = q1, errorbar='sd')\n",
    "axs.xaxis.set_major_locator(tckr.MultipleLocator(12))\n",
    "pplt.xlabel('Date')\n",
    "pplt.ylabel('Price, MMK')\n",
    "pplt.title('Prices of Rice and Palm oil over the last 17 years')\n",
    "axs.yaxis.set_major_locator(tckr.MultipleLocator(1000))\n",
    "sns.despine()\n",
    "pplt.show()\n"
   ]
  },
  {
   "cell_type": "markdown",
   "id": "f47aa8a9",
   "metadata": {},
   "source": [
    "> Before the 2020 global pandemic, the prices of essential food items had very little price changes, especially the price of the rice.  \n",
    "After the global pandemic, Myanmar's economy seems to be still in shambles as prices went up dramatically during the last 5 years."
   ]
  },
  {
   "cell_type": "code",
   "execution_count": 10,
   "id": "0b5ac2cb",
   "metadata": {},
   "outputs": [
    {
     "data": {
      "text/plain": [
       "region\n",
       "Rakhine         7870\n",
       "Shan (North)    6807\n",
       "Kachin          5723\n",
       "Chin            3716\n",
       "Magway          2625\n",
       "Name: count, dtype: int64"
      ]
     },
     "execution_count": 10,
     "metadata": {},
     "output_type": "execute_result"
    }
   ],
   "source": [
    "dF['region'].value_counts().head(5)"
   ]
  },
  {
   "cell_type": "code",
   "execution_count": 11,
   "id": "1405f31e",
   "metadata": {},
   "outputs": [
    {
     "data": {
      "application/vnd.microsoft.datawrangler.viewer.v0+json": {
       "columns": [
        {
         "name": "year",
         "rawType": "object",
         "type": "string"
        },
        {
         "name": "year",
         "rawType": "object",
         "type": "string"
        },
        {
         "name": "avg_exchange",
         "rawType": "float64",
         "type": "float"
        }
       ],
       "conversionMethod": "pd.DataFrame",
       "ref": "23c703a1-9741-4dc1-9073-a91a0868c4aa",
       "rows": [
        [
         "2008",
         "2008",
         "973.9051668684408"
        ],
        [
         "2009",
         "2009",
         "964.2674588039274"
        ],
        [
         "2010",
         "2010",
         "962.3151496151597"
        ],
        [
         "2011",
         "2011",
         "965.6634265916975"
        ],
        [
         "2012",
         "2012",
         "966.5754849506243"
        ],
        [
         "2013",
         "2013",
         "966.3792873431377"
        ],
        [
         "2014",
         "2014",
         "981.9197631181754"
        ],
        [
         "2015",
         "2015",
         "1160.3341749038111"
        ],
        [
         "2016",
         "2016",
         "1226.2770545514663"
        ],
        [
         "2017",
         "2017",
         "1358.7290182063039"
        ],
        [
         "2018",
         "2018",
         "1341.880341880342"
        ],
        [
         "2019",
         "2019",
         "1538.4615384615383"
        ],
        [
         "2020",
         "2020",
         "1353.2730984576424"
        ],
        [
         "2021",
         "2021",
         "1586.5951938749627"
        ],
        [
         "2022",
         "2022",
         "1929.5239426182043"
        ],
        [
         "2023",
         "2023",
         "2092.5844912393213"
        ],
        [
         "2024",
         "2024",
         "2093.8659361048303"
        ],
        [
         "2025",
         "2025",
         "2092.727389159963"
        ]
       ],
       "shape": {
        "columns": 2,
        "rows": 18
       }
      },
      "text/html": [
       "<div>\n",
       "<style scoped>\n",
       "    .dataframe tbody tr th:only-of-type {\n",
       "        vertical-align: middle;\n",
       "    }\n",
       "\n",
       "    .dataframe tbody tr th {\n",
       "        vertical-align: top;\n",
       "    }\n",
       "\n",
       "    .dataframe thead th {\n",
       "        text-align: right;\n",
       "    }\n",
       "</style>\n",
       "<table border=\"1\" class=\"dataframe\">\n",
       "  <thead>\n",
       "    <tr style=\"text-align: right;\">\n",
       "      <th></th>\n",
       "      <th>year</th>\n",
       "      <th>avg_exchange</th>\n",
       "    </tr>\n",
       "    <tr>\n",
       "      <th>year</th>\n",
       "      <th></th>\n",
       "      <th></th>\n",
       "    </tr>\n",
       "  </thead>\n",
       "  <tbody>\n",
       "    <tr>\n",
       "      <th>2008</th>\n",
       "      <td>2008</td>\n",
       "      <td>973.905167</td>\n",
       "    </tr>\n",
       "    <tr>\n",
       "      <th>2009</th>\n",
       "      <td>2009</td>\n",
       "      <td>964.267459</td>\n",
       "    </tr>\n",
       "    <tr>\n",
       "      <th>2010</th>\n",
       "      <td>2010</td>\n",
       "      <td>962.315150</td>\n",
       "    </tr>\n",
       "    <tr>\n",
       "      <th>2011</th>\n",
       "      <td>2011</td>\n",
       "      <td>965.663427</td>\n",
       "    </tr>\n",
       "    <tr>\n",
       "      <th>2012</th>\n",
       "      <td>2012</td>\n",
       "      <td>966.575485</td>\n",
       "    </tr>\n",
       "    <tr>\n",
       "      <th>2013</th>\n",
       "      <td>2013</td>\n",
       "      <td>966.379287</td>\n",
       "    </tr>\n",
       "    <tr>\n",
       "      <th>2014</th>\n",
       "      <td>2014</td>\n",
       "      <td>981.919763</td>\n",
       "    </tr>\n",
       "    <tr>\n",
       "      <th>2015</th>\n",
       "      <td>2015</td>\n",
       "      <td>1160.334175</td>\n",
       "    </tr>\n",
       "    <tr>\n",
       "      <th>2016</th>\n",
       "      <td>2016</td>\n",
       "      <td>1226.277055</td>\n",
       "    </tr>\n",
       "    <tr>\n",
       "      <th>2017</th>\n",
       "      <td>2017</td>\n",
       "      <td>1358.729018</td>\n",
       "    </tr>\n",
       "    <tr>\n",
       "      <th>2018</th>\n",
       "      <td>2018</td>\n",
       "      <td>1341.880342</td>\n",
       "    </tr>\n",
       "    <tr>\n",
       "      <th>2019</th>\n",
       "      <td>2019</td>\n",
       "      <td>1538.461538</td>\n",
       "    </tr>\n",
       "    <tr>\n",
       "      <th>2020</th>\n",
       "      <td>2020</td>\n",
       "      <td>1353.273098</td>\n",
       "    </tr>\n",
       "    <tr>\n",
       "      <th>2021</th>\n",
       "      <td>2021</td>\n",
       "      <td>1586.595194</td>\n",
       "    </tr>\n",
       "    <tr>\n",
       "      <th>2022</th>\n",
       "      <td>2022</td>\n",
       "      <td>1929.523943</td>\n",
       "    </tr>\n",
       "    <tr>\n",
       "      <th>2023</th>\n",
       "      <td>2023</td>\n",
       "      <td>2092.584491</td>\n",
       "    </tr>\n",
       "    <tr>\n",
       "      <th>2024</th>\n",
       "      <td>2024</td>\n",
       "      <td>2093.865936</td>\n",
       "    </tr>\n",
       "    <tr>\n",
       "      <th>2025</th>\n",
       "      <td>2025</td>\n",
       "      <td>2092.727389</td>\n",
       "    </tr>\n",
       "  </tbody>\n",
       "</table>\n",
       "</div>"
      ],
      "text/plain": [
       "      year  avg_exchange\n",
       "year                    \n",
       "2008  2008    973.905167\n",
       "2009  2009    964.267459\n",
       "2010  2010    962.315150\n",
       "2011  2011    965.663427\n",
       "2012  2012    966.575485\n",
       "2013  2013    966.379287\n",
       "2014  2014    981.919763\n",
       "2015  2015   1160.334175\n",
       "2016  2016   1226.277055\n",
       "2017  2017   1358.729018\n",
       "2018  2018   1341.880342\n",
       "2019  2019   1538.461538\n",
       "2020  2020   1353.273098\n",
       "2021  2021   1586.595194\n",
       "2022  2022   1929.523943\n",
       "2023  2023   2092.584491\n",
       "2024  2024   2093.865936\n",
       "2025  2025   2092.727389"
      ]
     },
     "execution_count": 11,
     "metadata": {},
     "output_type": "execute_result"
    }
   ],
   "source": [
    "q2 = dF.loc[(dF.region == 'Rakhine') & (dF.commodity == 'Rice (low quality)')]\n",
    "# we are just gonna filter the dataset by rakhine regoin as the dataset has so much record about it \n",
    "# Since rice is a big staple in Asia, we will focus on prices of rice and find the average exchange rate for each year in the dataset.\n",
    "\n",
    "exc = q2.price/q2.usdprice\n",
    "q2 = q2.assign(exchange = exc, year = q2.date.apply(lambda x : x[-4:]))\n",
    "\n",
    "data = pd.DataFrame({'year': pd.Categorical(q2.year).categories, 'avg_exchange': q2.exchange.groupby(q2.year).mean()})\n",
    "data"
   ]
  },
  {
   "cell_type": "code",
   "execution_count": 12,
   "id": "773de4b8",
   "metadata": {},
   "outputs": [
    {
     "data": {
      "image/png": "[encoded data removed]",
      "text/plain": [
       "<Figure size 1000x400 with 1 Axes>"
      ]
     },
     "metadata": {},
     "output_type": "display_data"
    }
   ],
   "source": [
    "f, axs = pplt.subplots(figsize = (10, 4))\n",
    "\n",
    "sns.barplot(x = 'year', y = 'avg_exchange', data = data)\n",
    "pplt.ylabel('1 USD equivalent, MMK')\n",
    "pplt.xlabel('Year')\n",
    "pplt.title('Average exchange rate per year')\n",
    "sns.despine()\n",
    "pplt.show()"
   ]
  },
  {
   "cell_type": "markdown",
   "id": "13d8e9fe",
   "metadata": {},
   "source": [
    "> Starting from 2015, exchange rate was slowly increasing and it chaotically increased starting from 2021."
   ]
  },
  {
   "cell_type": "markdown",
   "id": "2819c226",
   "metadata": {},
   "source": [
    "### Insights"
   ]
  },
  {
   "cell_type": "markdown",
   "id": "414ad3ac",
   "metadata": {},
   "source": [
    "- The data mainly focuses on less developed state/division of Myanmar such as Rakhine, Kachin and Chin.\n",
    "- The prices of palm oil has a percentage change of 400% over the last 5 years.\n",
    "- The average exchange rate in 2024 has increased by 60% compared to average exchange rate in 2020. This means that people will have to struggle for food as people are more 60% poorer due to depreciated value of MMK.\n",
    "- Since the prices of necessary food items are increasing, there will be malnutrition among children and women of disadvantaged communities of Myanmar which can lead to slower development in children.\n",
    "- More food schemes should be implemented to solve this food crisis in Myanmar."
   ]
  }
 ],
 "metadata": {
  "kernelspec": {
   "display_name": "base",
   "language": "python",
   "name": "python3"
  },
  "language_info": {
   "codemirror_mode": {
    "name": "ipython",
    "version": 3
   },
   "file_extension": ".py",
   "mimetype": "text/x-python",
   "name": "python",
   "nbconvert_exporter": "python",
   "pygments_lexer": "ipython3",
   "version": "3.12.7"
  }
 },
 "nbformat": 4,
 "nbformat_minor": 5
}
